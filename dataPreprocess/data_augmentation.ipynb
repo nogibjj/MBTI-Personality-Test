{
 "cells": [
  {
   "cell_type": "code",
   "execution_count": 3,
   "metadata": {},
   "outputs": [],
   "source": [
    "from parrot import Parrot\n",
    "import pandas as pd\n",
    "from tqdm import tqdm\n",
    "import os\n",
    "import nlpaug.augmenter.word as naw\n",
    "# Download word2vec model\n",
    "os.environ[\"MODEL_DIR\"] = '/workspaces/mlops-template-Shunian-Chen/model'\n",
    "model_dir = os.environ[\"MODEL_DIR\"]\n",
    "# from nlpaug.util.file.download import DownloadUtil\n",
    "# DownloadUtil.download_word2vec(dest_dir=model_dir) "
   ]
  },
  {
   "cell_type": "code",
   "execution_count": 4,
   "metadata": {},
   "outputs": [],
   "source": [
    "parrot = Parrot(model_tag=\"prithivida/parrot_paraphraser_on_T5\", use_gpu=True)"
   ]
  },
  {
   "cell_type": "code",
   "execution_count": 5,
   "metadata": {},
   "outputs": [],
   "source": [
    "def paraphrase_aug(data, num):\n",
    "    aug_text = {'text': []}\n",
    "    for text in tqdm(data):\n",
    "        paraphrases = parrot.augment(text,  max_length = 250, max_return_phrases = 5, do_diverse=False, use_gpu=True)\n",
    "        if paraphrases:\n",
    "            for para in paraphrases:\n",
    "                if para[1] != 0:\n",
    "                    aug_text['text'].append(para[0])\n",
    "                    num -= 1\n",
    "    df_aug = pd.DataFrame(aug_text)\n",
    "    return df_aug, num\n",
    "\n",
    "def data_augs(data, num, model):\n",
    "    aug_text = {'text': []}\n",
    "\n",
    "    if model == 'word_embs':\n",
    "        aug = naw.WordEmbsAug(model_type='word2vec', model_path=model_dir+'GoogleNews-vectors-negative300.bin',action=\"substitute\", device='cuda')\n",
    "    elif model == 'contextual':\n",
    "        aug = naw.ContextualWordEmbsAug(model_path='roberta-base', action=\"substitute\", device='cuda')\n",
    "    elif model == 'synonym':\n",
    "        aug = naw.SynonymAug(aug_src='wordnet')\n",
    "\n",
    "    for text in data.values.tolist():\n",
    "        augmented_text = aug.augment(str(text))\n",
    "        aug_text['text'] += augmented_text\n",
    "        num -= 1\n",
    "        if num == 0:\n",
    "            break\n",
    "    df_aug = pd.DataFrame(aug_text)\n",
    "\n",
    "    return df_aug, num\n"
   ]
  },
  {
   "cell_type": "code",
   "execution_count": 6,
   "metadata": {},
   "outputs": [],
   "source": [
    "origin_data = pd.read_csv(\"/workspaces/MBTI-Personality-Test/Data/mbti_train.csv\")"
   ]
  },
  {
   "cell_type": "code",
   "execution_count": 7,
   "metadata": {},
   "outputs": [
    {
     "name": "stdout",
     "output_type": "stream",
     "text": [
      "    label   text\n",
      "0       0   7639\n",
      "1       1   6279\n",
      "2       2  55830\n",
      "3       3  40742\n",
      "4       4  12630\n",
      "5       5   9950\n",
      "6       6  69372\n",
      "7       7  48976\n",
      "8       8   3391\n",
      "9       9   1731\n",
      "10     10  25672\n",
      "11     11  26415\n",
      "12     12   1507\n",
      "13     13   1631\n",
      "14     14   7311\n",
      "15     15   8752 20489\n"
     ]
    }
   ],
   "source": [
    "cnt = origin_data.groupby(\"label\").count().reset_index()\n",
    "avg = len(origin_data) // 16\n",
    "print(cnt, avg)"
   ]
  },
  {
   "cell_type": "code",
   "execution_count": 8,
   "metadata": {},
   "outputs": [
    {
     "data": {
      "text/html": [
       "<div>\n",
       "<style scoped>\n",
       "    .dataframe tbody tr th:only-of-type {\n",
       "        vertical-align: middle;\n",
       "    }\n",
       "\n",
       "    .dataframe tbody tr th {\n",
       "        vertical-align: top;\n",
       "    }\n",
       "\n",
       "    .dataframe thead th {\n",
       "        text-align: right;\n",
       "    }\n",
       "</style>\n",
       "<table border=\"1\" class=\"dataframe\">\n",
       "  <thead>\n",
       "    <tr style=\"text-align: right;\">\n",
       "      <th></th>\n",
       "      <th>label</th>\n",
       "      <th>length</th>\n",
       "      <th>to_aug</th>\n",
       "    </tr>\n",
       "  </thead>\n",
       "  <tbody>\n",
       "    <tr>\n",
       "      <th>0</th>\n",
       "      <td>0</td>\n",
       "      <td>7639</td>\n",
       "      <td>12850</td>\n",
       "    </tr>\n",
       "    <tr>\n",
       "      <th>1</th>\n",
       "      <td>1</td>\n",
       "      <td>6279</td>\n",
       "      <td>14210</td>\n",
       "    </tr>\n",
       "    <tr>\n",
       "      <th>2</th>\n",
       "      <td>2</td>\n",
       "      <td>55830</td>\n",
       "      <td>0</td>\n",
       "    </tr>\n",
       "    <tr>\n",
       "      <th>3</th>\n",
       "      <td>3</td>\n",
       "      <td>40742</td>\n",
       "      <td>0</td>\n",
       "    </tr>\n",
       "    <tr>\n",
       "      <th>4</th>\n",
       "      <td>4</td>\n",
       "      <td>12630</td>\n",
       "      <td>7859</td>\n",
       "    </tr>\n",
       "    <tr>\n",
       "      <th>5</th>\n",
       "      <td>5</td>\n",
       "      <td>9950</td>\n",
       "      <td>10539</td>\n",
       "    </tr>\n",
       "    <tr>\n",
       "      <th>6</th>\n",
       "      <td>6</td>\n",
       "      <td>69372</td>\n",
       "      <td>0</td>\n",
       "    </tr>\n",
       "    <tr>\n",
       "      <th>7</th>\n",
       "      <td>7</td>\n",
       "      <td>48976</td>\n",
       "      <td>0</td>\n",
       "    </tr>\n",
       "    <tr>\n",
       "      <th>8</th>\n",
       "      <td>8</td>\n",
       "      <td>3391</td>\n",
       "      <td>17098</td>\n",
       "    </tr>\n",
       "    <tr>\n",
       "      <th>9</th>\n",
       "      <td>9</td>\n",
       "      <td>1731</td>\n",
       "      <td>18758</td>\n",
       "    </tr>\n",
       "    <tr>\n",
       "      <th>10</th>\n",
       "      <td>10</td>\n",
       "      <td>25672</td>\n",
       "      <td>0</td>\n",
       "    </tr>\n",
       "    <tr>\n",
       "      <th>11</th>\n",
       "      <td>11</td>\n",
       "      <td>26415</td>\n",
       "      <td>0</td>\n",
       "    </tr>\n",
       "    <tr>\n",
       "      <th>12</th>\n",
       "      <td>12</td>\n",
       "      <td>1507</td>\n",
       "      <td>18982</td>\n",
       "    </tr>\n",
       "    <tr>\n",
       "      <th>13</th>\n",
       "      <td>13</td>\n",
       "      <td>1631</td>\n",
       "      <td>18858</td>\n",
       "    </tr>\n",
       "    <tr>\n",
       "      <th>14</th>\n",
       "      <td>14</td>\n",
       "      <td>7311</td>\n",
       "      <td>13178</td>\n",
       "    </tr>\n",
       "    <tr>\n",
       "      <th>15</th>\n",
       "      <td>15</td>\n",
       "      <td>8752</td>\n",
       "      <td>11737</td>\n",
       "    </tr>\n",
       "  </tbody>\n",
       "</table>\n",
       "</div>"
      ],
      "text/plain": [
       "    label  length  to_aug\n",
       "0       0    7639   12850\n",
       "1       1    6279   14210\n",
       "2       2   55830       0\n",
       "3       3   40742       0\n",
       "4       4   12630    7859\n",
       "5       5    9950   10539\n",
       "6       6   69372       0\n",
       "7       7   48976       0\n",
       "8       8    3391   17098\n",
       "9       9    1731   18758\n",
       "10     10   25672       0\n",
       "11     11   26415       0\n",
       "12     12    1507   18982\n",
       "13     13    1631   18858\n",
       "14     14    7311   13178\n",
       "15     15    8752   11737"
      ]
     },
     "execution_count": 8,
     "metadata": {},
     "output_type": "execute_result"
    }
   ],
   "source": [
    "aug = pd.DataFrame(cnt)\n",
    "aug[\"to_aug\"] = cnt['text'].apply(lambda x: (avg - x)).clip(0)\n",
    "aug.columns = [\"label\", \"length\", \"to_aug\"]\n",
    "aug"
   ]
  },
  {
   "cell_type": "code",
   "execution_count": 9,
   "metadata": {},
   "outputs": [],
   "source": [
    "def augment_data_by_label(data, num, label):\n",
    "    print(\"data: \", data.shape)\n",
    "    augmented_data, num = paraphrase_aug(data, num)\n",
    "    new_data = pd.concat([pd.DataFrame(data), augmented_data], axis=0)\n",
    "    print(\"num after paraphrase: \", num)\n",
    "    print(\"augmented_data: \", augmented_data.shape)\n",
    "    print(\"new_data: \", new_data.shape)\n",
    "    if num > 0:\n",
    "        augmented_data, num = data_augs(new_data, num, 'synonym')\n",
    "        new_data = pd.concat([new_data, augmented_data], axis=0)\n",
    "        print(\"num after synonym: \", num)\n",
    "        print(\"augmented_data: \", augmented_data.shape)\n",
    "    if num > 0:\n",
    "        augmented_data, num = data_augs(new_data, num, 'contextual')\n",
    "        new_data = pd.concat([new_data, augmented_data], axis=0)\n",
    "        print(\"num after contextual: \", num)\n",
    "        print(\"augmented_data: \", augmented_data.shape)\n",
    "    # if num > 0:\n",
    "    #     augmented_data, num = data_augs(new_data, num, label, 'word_embs')\n",
    "    #     new_data = pd.concat([new_data, augmented_data], axis=0)\n",
    "    print(\"new_data: \", new_data.shape)\n",
    "    new_data['label'] = label\n",
    "    return new_data\n"
   ]
  },
  {
   "cell_type": "code",
   "execution_count": 10,
   "metadata": {},
   "outputs": [],
   "source": [
    "def data_augmentation(data, aug):\n",
    "    to_aug = aug[aug['to_aug'] > 0]['label'].tolist()\n",
    "    data_augmented = data\n",
    "    for label in to_aug[4:]:\n",
    "        num = aug[aug['label'] == label]['to_aug'].values.tolist()[0]\n",
    "        print(f\"Augmenting label: {label}, num to aug: {num}\")\n",
    "\n",
    "        label_data = data[data['label'] == label].reset_index(drop=True)\n",
    "        augmented_data = augment_data_by_label(label_data['text'], num, label)\n",
    "        \n",
    "        data_augmented = pd.concat([data_augmented, augmented_data], axis=0)\n",
    "        data_augmented.to_csv(f\"mbti_train_aug{label}.csv\", index=False)\n",
    "    return data_augmented"
   ]
  },
  {
   "cell_type": "code",
   "execution_count": 11,
   "metadata": {},
   "outputs": [
    {
     "name": "stdout",
     "output_type": "stream",
     "text": [
      "Augmenting label: 8, num to aug: 17098\n",
      "data:  (3391,)\n"
     ]
    },
    {
     "name": "stderr",
     "output_type": "stream",
     "text": [
      "100%|██████████| 3391/3391 [51:09<00:00,  1.10it/s] \n"
     ]
    },
    {
     "name": "stdout",
     "output_type": "stream",
     "text": [
      "num after paraphrase:  15647\n",
      "augmented_data:  (1451, 1)\n",
      "new_data:  (4842, 1)\n",
      "num after synonym:  10805\n",
      "augmented_data:  (4842, 1)\n",
      "num after contextual:  1121\n",
      "augmented_data:  (9684, 1)\n",
      "new_data:  (19368, 1)\n",
      "Augmenting label: 9, num to aug: 18758\n",
      "data:  (1731,)\n"
     ]
    },
    {
     "name": "stderr",
     "output_type": "stream",
     "text": [
      " 83%|████████▎ | 1445/1731 [20:09<02:26,  1.96it/s]Bad pipe message: %s [b'\\x9e\\x9b\\xe6\\x1c6`)\\xa5\"\\xf2\\xd5\\xff\\x8f|\\xb5\\xd4\\xf8\\x14\\x00\\x00|\\xc0,\\xc00\\x00\\xa3\\x00\\x9f\\xcc\\xa9\\xcc\\xa8\\xcc\\xaa\\xc0\\xaf\\xc0\\xad\\xc0\\xa3\\xc0\\x9f\\xc0]\\xc0a\\xc0W\\xc0S\\xc0+\\xc0/\\x00\\xa2\\x00\\x9e\\xc0\\xae\\xc0\\xac\\xc0\\xa2\\xc0\\x9e\\xc0\\\\\\xc0`\\xc0V\\xc0R\\xc0$\\xc0(\\x00k\\x00j\\xc0#\\xc0\\'\\x00g\\x00@\\xc0\\n\\xc0\\x14\\x009\\x008\\xc0\\t\\xc0', b'3\\x002\\x00\\x9d\\xc0\\xa1\\xc0\\x9d\\xc0Q\\x00\\x9c\\xc0\\xa0\\xc0\\x9c\\xc0']\n",
      "Bad pipe message: %s [b'=\\x00<\\x005\\x00/\\x00\\x9a\\x00\\x99\\xc0\\x07\\xc0\\x11\\x00\\x96\\x00\\x05\\x00\\xff\\x01\\x00\\x00j\\x00\\x00\\x00\\x0e\\x00\\x0c\\x00\\x00\\t127.0.0.1\\x00\\x0b\\x00\\x04\\x03\\x00\\x01\\x02\\x00\\n\\x00\\x0c\\x00\\n\\x00\\x1d\\x00\\x17\\x00\\x1e\\x00\\x19\\x00\\x18\\x00#\\x00\\x00\\x00\\x16\\x00\\x00\\x00\\x17\\x00\\x00']\n",
      "Bad pipe message: %s [b'$\\xad\\xd3k']\n",
      "Bad pipe message: %s [b'\\xa6o\\xa9F\\xd6\\xcevn}\\xab\\xff~\\x00\\x00\\xa6\\xc0,\\xc00\\x00\\xa3\\x00\\x9f\\xcc\\xa9\\xcc\\xa8\\xcc\\xaa\\xc0\\xaf\\xc0\\xad\\xc0\\xa3\\xc0\\x9f\\xc0]\\xc0a\\xc0W\\xc0S\\xc0+\\xc0/\\x00\\xa2\\x00\\x9e\\xc0\\xae\\xc0\\xac\\xc0\\xa2\\xc0\\x9e\\xc0\\\\']\n",
      "Bad pipe message: %s [b\"\\xc0V\\xc0R\\xc0$\\xc0(\\x00k\\x00j\\xc0s\\xc0w\\x00\\xc4\\x00\\xc3\\xc0#\\xc0'\\x00g\\x00@\\xc0r\\xc0v\\x00\\xbe\\x00\\xbd\\xc0\\n\\xc0\\x14\\x009\\x008\\x00\\x88\\x00\\x87\\xc0\\t\\xc0\\x13\\x003\\x002\\x00\\x9a\\x00\\x99\\x00E\\x00D\\xc0\\x07\\xc0\\x11\\xc0\\x08\\xc0\\x12\\x00\\x16\\x00\\x13\\x00\\x9d\\xc0\\xa1\\xc0\\x9d\\xc0Q\\x00\\x9c\\xc0\\xa0\\xc0\\x9c\\xc0P\\x00=\\x00\\xc0\\x00<\\x00\\xba\\x005\\x00\\x84\\x00/\\x00\\x96\\x00A\\x00\\x05\\x00\\n\\x00\\xff\\x01\\x00\\x00j\\x00\\x00\\x00\\x0e\\x00\\x0c\\x00\\x00\\t127.0.0.1\\x00\\x0b\\x00\\x04\\x03\\x00\\x01\\x02\\x00\\n\\x00\\x0c\\x00\\n\\x00\\x1d\\x00\\x17\\x00\\x1e\\x00\\x19\\x00\\x18\\x00#\\x00\\x00\\x00\\x16\\x00\\x00\\x00\\x17\\x00\\x00\\x00\\r\\x000\\x00.\\x04\\x03\\x05\\x03\\x06\\x03\\x08\\x07\\x08\\x08\\x08\"]\n",
      "Bad pipe message: %s [b'\\xe4U.\\x98%cR\\x11\\xefa\\xc1\\x9b\\xbe\\x88\\xd3z\\xc2\\xd8\\x00\\x00\\xa2\\xc0\\x14\\xc0\\n\\x009\\x008\\x007\\x006\\x00\\x88\\x00\\x87\\x00\\x86\\x00\\x85\\xc0\\x19\\x00:\\x00\\x89\\xc0\\x0f\\xc0\\x05\\x005\\x00\\x84\\xc0\\x13\\xc0\\t\\x003\\x002\\x001\\x000\\x00\\x9a\\x00\\x99\\x00\\x98\\x00\\x97\\x00E\\x00D\\x00C\\x00B\\xc0\\x18\\x004\\x00\\x9b\\x00F\\xc0\\x0e\\xc0\\x04\\x00/\\x00\\x96\\x00A\\x00\\x07\\xc0\\x11\\xc0\\x07\\xc0\\x16\\x00\\x18\\xc0\\x0c\\xc0\\x02\\x00\\x05\\x00\\x04\\xc0\\x12\\xc0\\x08\\x00\\x16\\x00\\x13\\x00\\x10\\x00\\r\\xc0\\x17\\x00\\x1b\\xc0\\r\\xc0\\x03\\x00\\n\\x00\\x15\\x00\\x12\\x00\\x0f\\x00\\x0c\\x00\\x1a\\x00\\t\\x00\\x14\\x00\\x11\\x00\\x19']\n",
      "Bad pipe message: %s [b'\\n\\x08\\x0b\\x08\\x04\\x08\\x05\\x08']\n",
      "Bad pipe message: %s [b'\\x85\\xeb\\xe09\\xec\\xf3\\xa6\\x99i\\x97\\x93\\x8f\\xf7\\x98W\\xad\\x13\\x99\\x00\\x00\\xa2\\xc0\\x14\\xc0\\n\\x009\\x008\\x007\\x006\\x00\\x88\\x00\\x87\\x00\\x86\\x00\\x85\\xc0\\x19\\x00:\\x00\\x89\\xc0\\x0f\\xc0\\x05\\x005\\x00\\x84\\xc0\\x13\\xc0\\t\\x003\\x002\\x001\\x000\\x00\\x9a\\x00\\x99\\x00\\x98\\x00\\x97\\x00E\\x00D\\x00C\\x00B\\xc0\\x18\\x004\\x00\\x9b\\x00F\\xc0\\x0e\\xc0\\x04\\x00/\\x00\\x96\\x00A\\x00\\x07\\xc0\\x11\\xc0\\x07\\xc0\\x16\\x00\\x18\\xc0\\x0c\\xc0\\x02']\n",
      "Bad pipe message: %s [b'\\x01\\x05\\x01\\x06\\x01']\n",
      "Bad pipe message: %s [b'\\x02\\x03', b'\\x02\\x01', b'\\x02\\x02']\n",
      "Bad pipe message: %s [b'\\x05\\x02\\x06']\n",
      "Bad pipe message: %s [b\"\\xd8\\xf2\\x10\\xaa3,?\\xb8 /.\\x98\\xb6\\x08$c\\r\\x84\\x00\\x00\\x86\\xc00\\xc0,\\xc0(\\xc0$\\xc0\\x14\\xc0\\n\\x00\\xa5\\x00\\xa3\\x00\\xa1\\x00\\x9f\\x00k\\x00j\\x00i\\x00h\\x009\\x008\\x007\\x006\\xc02\\xc0.\\xc0*\\xc0&\\xc0\\x0f\\xc0\\x05\\x00\\x9d\\x00=\\x005\\xc0/\\xc0+\\xc0'\\xc0#\\xc0\\x13\\xc0\\t\\x00\\xa4\\x00\\xa2\\x00\\xa0\\x00\\x9e\\x00g\\x00@\\x00?\\x00>\\x003\\x002\\x001\\x000\\xc01\\xc0-\\xc0)\\xc0%\\xc0\\x0e\\xc0\\x04\\x00\\x9c\\x00<\\x00/\\x00\\x9a\\x00\\x99\\x00\\x98\\x00\\x97\\x00\\x96\\x00\\x07\\xc0\\x11\\xc0\\x07\\xc0\\x0c\\xc0\\x02\\x00\\x05\\x00\\x04\\x00\\xff\\x02\\x01\\x00\\x00g\\x00\\x00\\x00\\x0e\\x00\\x0c\\x00\\x00\\t127.0.0.1\\x00\\x0b\\x00\\x04\\x03\\x00\\x01\\x02\\x00\\n\\x00\\x1c\\x00\\x1a\\x00\\x17\\x00\\x19\\x00\\x1c\\x00\\x1b\\x00\\x18\\x00\\x1a\\x00\\x16\\x00\\x0e\\x00\\r\\x00\\x0b\\x00\\x0c\\x00\\t\\x00\\n\\x00#\\x00\\x00\\x00\\r\"]\n",
      "100%|██████████| 1731/1731 [24:02<00:00,  1.20it/s]\n"
     ]
    },
    {
     "name": "stdout",
     "output_type": "stream",
     "text": [
      "num after paraphrase:  17866\n",
      "augmented_data:  (892, 1)\n",
      "new_data:  (2623, 1)\n",
      "num after synonym:  15243\n",
      "augmented_data:  (2623, 1)\n",
      "num after contextual:  9997\n",
      "augmented_data:  (5246, 1)\n",
      "new_data:  (10492, 1)\n",
      "Augmenting label: 12, num to aug: 18982\n",
      "data:  (1507,)\n"
     ]
    },
    {
     "name": "stderr",
     "output_type": "stream",
     "text": [
      "100%|██████████| 1507/1507 [22:20<00:00,  1.12it/s]\n"
     ]
    },
    {
     "name": "stdout",
     "output_type": "stream",
     "text": [
      "num after paraphrase:  18247\n",
      "augmented_data:  (735, 1)\n",
      "new_data:  (2242, 1)\n",
      "num after synonym:  16005\n",
      "augmented_data:  (2242, 1)\n",
      "num after contextual:  11521\n",
      "augmented_data:  (4484, 1)\n",
      "new_data:  (8968, 1)\n",
      "Augmenting label: 13, num to aug: 18858\n",
      "data:  (1631,)\n"
     ]
    },
    {
     "name": "stderr",
     "output_type": "stream",
     "text": [
      "100%|██████████| 1631/1631 [25:18<00:00,  1.07it/s]\n"
     ]
    },
    {
     "name": "stdout",
     "output_type": "stream",
     "text": [
      "num after paraphrase:  18167\n",
      "augmented_data:  (691, 1)\n",
      "new_data:  (2322, 1)\n",
      "num after synonym:  15845\n",
      "augmented_data:  (2322, 1)\n",
      "num after contextual:  11201\n",
      "augmented_data:  (4644, 1)\n",
      "new_data:  (9288, 1)\n",
      "Augmenting label: 14, num to aug: 13178\n",
      "data:  (7311,)\n"
     ]
    },
    {
     "name": "stderr",
     "output_type": "stream",
     "text": [
      "100%|██████████| 7311/7311 [1:51:05<00:00,  1.10it/s]  \n"
     ]
    },
    {
     "name": "stdout",
     "output_type": "stream",
     "text": [
      "num after paraphrase:  9695\n",
      "augmented_data:  (3483, 1)\n",
      "new_data:  (10794, 1)\n",
      "num after synonym:  0\n",
      "augmented_data:  (9695, 1)\n",
      "new_data:  (20489, 1)\n",
      "Augmenting label: 15, num to aug: 11737\n",
      "data:  (8752,)\n"
     ]
    },
    {
     "name": "stderr",
     "output_type": "stream",
     "text": [
      "100%|██████████| 8752/8752 [2:08:47<00:00,  1.13it/s]  \n"
     ]
    },
    {
     "name": "stdout",
     "output_type": "stream",
     "text": [
      "num after paraphrase:  7222\n",
      "augmented_data:  (4515, 1)\n",
      "new_data:  (13267, 1)\n",
      "num after synonym:  0\n",
      "augmented_data:  (7222, 1)\n",
      "new_data:  (20489, 1)\n"
     ]
    }
   ],
   "source": [
    "augmented_data = data_augmentation(origin_data, aug)"
   ]
  },
  {
   "cell_type": "code",
   "execution_count": null,
   "metadata": {},
   "outputs": [
    {
     "ename": "",
     "evalue": "",
     "output_type": "error",
     "traceback": [
      "\u001b[1;31mnotebook controller is DISPOSED. \n",
      "\u001b[1;31mView Jupyter <a href='command:jupyter.viewOutput'>log</a> for further details."
     ]
    },
    {
     "ename": "",
     "evalue": "",
     "output_type": "error",
     "traceback": [
      "\u001b[1;31mnotebook controller is DISPOSED. \n",
      "\u001b[1;31mView Jupyter <a href='command:jupyter.viewOutput'>log</a> for further details."
     ]
    }
   ],
   "source": [
    "augmented_data.to_csv(\"mbti_train_augmented.csv\", index=False)"
   ]
  },
  {
   "cell_type": "code",
   "execution_count": null,
   "metadata": {},
   "outputs": [
    {
     "data": {
      "text/plain": [
       "(327828, 2)"
      ]
     },
     "execution_count": 141,
     "metadata": {},
     "output_type": "execute_result"
    },
    {
     "ename": "",
     "evalue": "",
     "output_type": "error",
     "traceback": [
      "\u001b[1;31mnotebook controller is DISPOSED. \n",
      "\u001b[1;31mView Jupyter <a href='command:jupyter.viewOutput'>log</a> for further details."
     ]
    },
    {
     "ename": "",
     "evalue": "",
     "output_type": "error",
     "traceback": [
      "\u001b[1;31mnotebook controller is DISPOSED. \n",
      "\u001b[1;31mView Jupyter <a href='command:jupyter.viewOutput'>log</a> for further details."
     ]
    }
   ],
   "source": [
    "origin_data.shape"
   ]
  },
  {
   "cell_type": "code",
   "execution_count": null,
   "metadata": {},
   "outputs": [
    {
     "data": {
      "text/plain": [
       "(388749, 2)"
      ]
     },
     "execution_count": 142,
     "metadata": {},
     "output_type": "execute_result"
    },
    {
     "ename": "",
     "evalue": "",
     "output_type": "error",
     "traceback": [
      "\u001b[1;31mnotebook controller is DISPOSED. \n",
      "\u001b[1;31mView Jupyter <a href='command:jupyter.viewOutput'>log</a> for further details."
     ]
    },
    {
     "ename": "",
     "evalue": "",
     "output_type": "error",
     "traceback": [
      "\u001b[1;31mnotebook controller is DISPOSED. \n",
      "\u001b[1;31mView Jupyter <a href='command:jupyter.viewOutput'>log</a> for further details."
     ]
    }
   ],
   "source": [
    "augmented_data.shape"
   ]
  },
  {
   "cell_type": "code",
   "execution_count": null,
   "metadata": {},
   "outputs": [
    {
     "ename": "",
     "evalue": "",
     "output_type": "error",
     "traceback": [
      "\u001b[1;31mnotebook controller is DISPOSED. \n",
      "\u001b[1;31mView Jupyter <a href='command:jupyter.viewOutput'>log</a> for further details."
     ]
    },
    {
     "ename": "",
     "evalue": "",
     "output_type": "error",
     "traceback": [
      "\u001b[1;31mnotebook controller is DISPOSED. \n",
      "\u001b[1;31mView Jupyter <a href='command:jupyter.viewOutput'>log</a> for further details."
     ]
    }
   ],
   "source": []
  }
 ],
 "metadata": {
  "kernelspec": {
   "display_name": ".venv",
   "language": "python",
   "name": "python3"
  },
  "language_info": {
   "codemirror_mode": {
    "name": "ipython",
    "version": 3
   },
   "file_extension": ".py",
   "mimetype": "text/x-python",
   "name": "python",
   "nbconvert_exporter": "python",
   "pygments_lexer": "ipython3",
   "version": "3.10.8 (main, Nov 15 2022, 20:55:06) [GCC 10.2.1 20210110]"
  },
  "orig_nbformat": 4,
  "vscode": {
   "interpreter": {
    "hash": "ac6dcd399ab8cd2ecc0f6e8f154efd75b4aa37c8093b73598011b1aae01f02fe"
   }
  }
 },
 "nbformat": 4,
 "nbformat_minor": 2
}
