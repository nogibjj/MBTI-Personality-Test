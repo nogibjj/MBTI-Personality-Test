{
 "cells": [
  {
   "cell_type": "code",
   "execution_count": 1,
   "metadata": {},
   "outputs": [],
   "source": [
    "import pandas as pd\n",
    "import numpy as np\n",
    "import json\n",
    "import matplotlib.pyplot as plt"
   ]
  },
  {
   "cell_type": "code",
   "execution_count": 51,
   "metadata": {},
   "outputs": [
    {
     "data": {
      "text/html": [
       "<div>\n",
       "<style scoped>\n",
       "    .dataframe tbody tr th:only-of-type {\n",
       "        vertical-align: middle;\n",
       "    }\n",
       "\n",
       "    .dataframe tbody tr th {\n",
       "        vertical-align: top;\n",
       "    }\n",
       "\n",
       "    .dataframe thead th {\n",
       "        text-align: right;\n",
       "    }\n",
       "</style>\n",
       "<table border=\"1\" class=\"dataframe\">\n",
       "  <thead>\n",
       "    <tr style=\"text-align: right;\">\n",
       "      <th></th>\n",
       "      <th>type</th>\n",
       "      <th>posts</th>\n",
       "    </tr>\n",
       "  </thead>\n",
       "  <tbody>\n",
       "    <tr>\n",
       "      <th>0</th>\n",
       "      <td>INFJ</td>\n",
       "      <td>'http://www.youtube.com/watch?v=qsXHcwe3krw|||...</td>\n",
       "    </tr>\n",
       "    <tr>\n",
       "      <th>1</th>\n",
       "      <td>ENTP</td>\n",
       "      <td>'I'm finding the lack of me in these posts ver...</td>\n",
       "    </tr>\n",
       "    <tr>\n",
       "      <th>2</th>\n",
       "      <td>INTP</td>\n",
       "      <td>'Good one  _____   https://www.youtube.com/wat...</td>\n",
       "    </tr>\n",
       "    <tr>\n",
       "      <th>3</th>\n",
       "      <td>INTJ</td>\n",
       "      <td>'Dear INTP,   I enjoyed our conversation the o...</td>\n",
       "    </tr>\n",
       "    <tr>\n",
       "      <th>4</th>\n",
       "      <td>ENTJ</td>\n",
       "      <td>'You're fired.|||That's another silly misconce...</td>\n",
       "    </tr>\n",
       "  </tbody>\n",
       "</table>\n",
       "</div>"
      ],
      "text/plain": [
       "   type                                              posts\n",
       "0  INFJ  'http://www.youtube.com/watch?v=qsXHcwe3krw|||...\n",
       "1  ENTP  'I'm finding the lack of me in these posts ver...\n",
       "2  INTP  'Good one  _____   https://www.youtube.com/wat...\n",
       "3  INTJ  'Dear INTP,   I enjoyed our conversation the o...\n",
       "4  ENTJ  'You're fired.|||That's another silly misconce..."
      ]
     },
     "execution_count": 51,
     "metadata": {},
     "output_type": "execute_result"
    }
   ],
   "source": [
    "df = pd.read_csv('/workspaces/MBTI-Personality-Test/Data/mbti_1.csv')\n",
    "df.head()"
   ]
  },
  {
   "cell_type": "code",
   "execution_count": 52,
   "metadata": {},
   "outputs": [
    {
     "data": {
      "text/plain": [
       "(array([1470.,  685., 1304., 1091.,  231.,  190., 1832.,  675.,  271.,\n",
       "         337.,  166.,  205.,   89.,   48.,   39.,   42.]),\n",
       " array([ 0.    ,  0.9375,  1.875 ,  2.8125,  3.75  ,  4.6875,  5.625 ,\n",
       "         6.5625,  7.5   ,  8.4375,  9.375 , 10.3125, 11.25  , 12.1875,\n",
       "        13.125 , 14.0625, 15.    ]),\n",
       " <BarContainer object of 16 artists>)"
      ]
     },
     "execution_count": 52,
     "metadata": {},
     "output_type": "execute_result"
    },
    {
     "data": {
      "image/png": "[encoded data removed]",
      "text/plain": [
       "<Figure size 640x480 with 1 Axes>"
      ]
     },
     "metadata": {},
     "output_type": "display_data"
    }
   ],
   "source": [
    "plt.hist(df['type'], bins=16)"
   ]
  },
  {
   "cell_type": "code",
   "execution_count": 79,
   "metadata": {},
   "outputs": [],
   "source": [
    "# remove urls in the text\n",
    "def remove_url(dataframe, col):\n",
    "    return dataframe[col].str.replace(r'(http|https)://([\\w_-]+(?:(?:\\.[\\w_-]+)+))([\\w.,@?^=%&:/~+#-]*[\\w@?^=%&/~+#-])', \"\", regex=True).astype(str)\n",
    "\n",
    "# replace ||| with [SEP] so that bert can recognize the end of a sentence\n",
    "def replace_sep(dataframe):\n",
    "    return dataframe.str.replace(r'|||', r\"[SEP]\", regex=False).str.replace(r'''(^['\"]*|['\"]*$)''', \"\", regex=True)\n",
    "\n",
    "# split the line according to [SEP]\n",
    "def split_line(dataframe):\n",
    "    return dataframe.str.split(r'\\[SEP\\]', expand=True).stack().reset_index(level=1, drop=True).rename('posts')\n",
    "\n",
    "# strip the spaces\n",
    "def remove_empty(dataframe):\n",
    "    return dataframe.str.replace(r'\\s+', ' ', regex=True).str.strip().str.strip(\"\\\"\").dropna()\n",
    "\n",
    "# remove the rows length smaller than 2\n",
    "def remove_empty_row(dataframe):\n",
    "    return dataframe[dataframe.str.len() > 3]\n",
    "\n",
    "df_tmp = (df.pipe(remove_url, 'posts').pipe(replace_sep).pipe(split_line).pipe(remove_empty).pipe(remove_empty_row))\n",
    "\n",
    "\n",
    "\n"
   ]
  },
  {
   "cell_type": "code",
   "execution_count": 80,
   "metadata": {},
   "outputs": [
    {
     "data": {
      "text/html": [
       "<div>\n",
       "<style scoped>\n",
       "    .dataframe tbody tr th:only-of-type {\n",
       "        vertical-align: middle;\n",
       "    }\n",
       "\n",
       "    .dataframe tbody tr th {\n",
       "        vertical-align: top;\n",
       "    }\n",
       "\n",
       "    .dataframe thead th {\n",
       "        text-align: right;\n",
       "    }\n",
       "</style>\n",
       "<table border=\"1\" class=\"dataframe\">\n",
       "  <thead>\n",
       "    <tr style=\"text-align: right;\">\n",
       "      <th></th>\n",
       "      <th>type</th>\n",
       "      <th>posts</th>\n",
       "    </tr>\n",
       "  </thead>\n",
       "  <tbody>\n",
       "    <tr>\n",
       "      <th>0</th>\n",
       "      <td>INFJ</td>\n",
       "      <td>enfp and intj moments sportscenter not top ten...</td>\n",
       "    </tr>\n",
       "    <tr>\n",
       "      <th>1</th>\n",
       "      <td>INFJ</td>\n",
       "      <td>What has been the most life-changing experienc...</td>\n",
       "    </tr>\n",
       "    <tr>\n",
       "      <th>2</th>\n",
       "      <td>INFJ</td>\n",
       "      <td>On repeat for most of today.</td>\n",
       "    </tr>\n",
       "    <tr>\n",
       "      <th>3</th>\n",
       "      <td>INFJ</td>\n",
       "      <td>May the PerC Experience immerse you.</td>\n",
       "    </tr>\n",
       "    <tr>\n",
       "      <th>4</th>\n",
       "      <td>INFJ</td>\n",
       "      <td>The last thing my INFJ friend posted on his fa...</td>\n",
       "    </tr>\n",
       "  </tbody>\n",
       "</table>\n",
       "</div>"
      ],
      "text/plain": [
       "   type                                              posts\n",
       "0  INFJ  enfp and intj moments sportscenter not top ten...\n",
       "1  INFJ  What has been the most life-changing experienc...\n",
       "2  INFJ                       On repeat for most of today.\n",
       "3  INFJ               May the PerC Experience immerse you.\n",
       "4  INFJ  The last thing my INFJ friend posted on his fa..."
      ]
     },
     "execution_count": 80,
     "metadata": {},
     "output_type": "execute_result"
    }
   ],
   "source": [
    "df_new = df.drop(['posts'], axis=1).join(df_tmp).reset_index().drop(['index'], axis=1)\n",
    "df_new.head()"
   ]
  },
  {
   "cell_type": "code",
   "execution_count": 81,
   "metadata": {},
   "outputs": [
    {
     "data": {
      "text/plain": [
       "(array([4.4580e+03, 2.3890e+03, 2.3760e+03, 3.6430e+03, 2.5560e+03,\n",
       "        3.8970e+03, 4.1660e+03, 2.8240e+03, 4.1510e+03, 2.7650e+03,\n",
       "        4.1140e+03, 4.2980e+03, 2.7480e+03, 4.0670e+03, 2.6970e+03,\n",
       "        3.9180e+03, 3.8800e+03, 2.5520e+03, 3.7610e+03, 2.4780e+03,\n",
       "        3.6630e+03, 2.4210e+03, 3.5490e+03, 3.5640e+03, 2.2810e+03,\n",
       "        3.4090e+03, 2.3390e+03, 3.3130e+03, 3.1880e+03, 2.1040e+03,\n",
       "        3.2260e+03, 2.0650e+03, 3.0900e+03, 3.0310e+03, 2.0410e+03,\n",
       "        2.9220e+03, 2.0040e+03, 2.9560e+03, 2.8760e+03, 1.9080e+03,\n",
       "        2.7770e+03, 1.8560e+03, 2.7010e+03, 1.7680e+03, 2.6940e+03,\n",
       "        2.5630e+03, 1.7140e+03, 2.4400e+03, 1.6290e+03, 2.5100e+03,\n",
       "        2.3520e+03, 1.5870e+03, 2.3690e+03, 1.5680e+03, 2.3170e+03,\n",
       "        2.3830e+03, 1.5280e+03, 2.2990e+03, 1.4050e+03, 2.0750e+03,\n",
       "        1.3480e+03, 2.0520e+03, 2.0590e+03, 1.3800e+03, 1.9770e+03,\n",
       "        1.3030e+03, 1.9940e+03, 2.2300e+03, 1.6740e+03, 3.6320e+03,\n",
       "        3.8740e+03, 1.1182e+04, 2.5225e+04, 2.8917e+04, 6.6973e+04,\n",
       "        4.9349e+04, 3.8208e+04, 1.1800e+02, 2.9000e+01, 2.5000e+01,\n",
       "        5.0000e+00, 3.0000e+00, 0.0000e+00, 1.0000e+00, 0.0000e+00,\n",
       "        0.0000e+00, 1.0000e+00, 0.0000e+00, 0.0000e+00, 0.0000e+00,\n",
       "        0.0000e+00, 0.0000e+00, 1.0000e+00, 0.0000e+00, 0.0000e+00,\n",
       "        1.0000e+00, 0.0000e+00, 0.0000e+00, 0.0000e+00, 1.0000e+00]),\n",
       " array([  4.  ,   6.59,   9.18,  11.77,  14.36,  16.95,  19.54,  22.13,\n",
       "         24.72,  27.31,  29.9 ,  32.49,  35.08,  37.67,  40.26,  42.85,\n",
       "         45.44,  48.03,  50.62,  53.21,  55.8 ,  58.39,  60.98,  63.57,\n",
       "         66.16,  68.75,  71.34,  73.93,  76.52,  79.11,  81.7 ,  84.29,\n",
       "         86.88,  89.47,  92.06,  94.65,  97.24,  99.83, 102.42, 105.01,\n",
       "        107.6 , 110.19, 112.78, 115.37, 117.96, 120.55, 123.14, 125.73,\n",
       "        128.32, 130.91, 133.5 , 136.09, 138.68, 141.27, 143.86, 146.45,\n",
       "        149.04, 151.63, 154.22, 156.81, 159.4 , 161.99, 164.58, 167.17,\n",
       "        169.76, 172.35, 174.94, 177.53, 180.12, 182.71, 185.3 , 187.89,\n",
       "        190.48, 193.07, 195.66, 198.25, 200.84, 203.43, 206.02, 208.61,\n",
       "        211.2 , 213.79, 216.38, 218.97, 221.56, 224.15, 226.74, 229.33,\n",
       "        231.92, 234.51, 237.1 , 239.69, 242.28, 244.87, 247.46, 250.05,\n",
       "        252.64, 255.23, 257.82, 260.41, 263.  ]),\n",
       " <BarContainer object of 100 artists>)"
      ]
     },
     "execution_count": 81,
     "metadata": {},
     "output_type": "execute_result"
    },
    {
     "data": {
      "image/png": "[encoded data removed]",
      "text/plain": [
       "<Figure size 640x480 with 1 Axes>"
      ]
     },
     "metadata": {},
     "output_type": "display_data"
    }
   ],
   "source": [
    "length = df_new['posts'].str.len()\n",
    "plt.hist(length, bins=100)"
   ]
  },
  {
   "cell_type": "code",
   "execution_count": 82,
   "metadata": {},
   "outputs": [
    {
     "data": {
      "text/plain": [
       "4"
      ]
     },
     "execution_count": 82,
     "metadata": {},
     "output_type": "execute_result"
    }
   ],
   "source": [
    "min(length)"
   ]
  },
  {
   "cell_type": "code",
   "execution_count": 83,
   "metadata": {},
   "outputs": [],
   "source": [
    "type2num = {'ISTJ': 0, 'ISFJ': 1, 'INFJ': 2, 'INTJ': 3, 'ISTP': 4, 'ISFP': 5, 'INFP': 6, 'INTP': 7, 'ESTP': 8, 'ESFP': 9, 'ENFP': 10, 'ENTP': 11, 'ESTJ': 12, 'ESFJ': 13, 'ENFJ': 14, 'ENTJ': 15}\n",
    "num2type = {0: 'ISTJ', 1: 'ISFJ', 2: 'INFJ', 3: 'INTJ', 4: 'ISTP', 5: 'ISFP', 6: 'INFP', 7: 'INTP', 8: 'ESTP', 9: 'ESFP', 10: 'ENFP', 11: 'ENTP', 12: 'ESTJ', 13: 'ESFJ', 14: 'ENFJ', 15: 'ENTJ'}"
   ]
  },
  {
   "cell_type": "code",
   "execution_count": 84,
   "metadata": {},
   "outputs": [
    {
     "data": {
      "text/html": [
       "<div>\n",
       "<style scoped>\n",
       "    .dataframe tbody tr th:only-of-type {\n",
       "        vertical-align: middle;\n",
       "    }\n",
       "\n",
       "    .dataframe tbody tr th {\n",
       "        vertical-align: top;\n",
       "    }\n",
       "\n",
       "    .dataframe thead th {\n",
       "        text-align: right;\n",
       "    }\n",
       "</style>\n",
       "<table border=\"1\" class=\"dataframe\">\n",
       "  <thead>\n",
       "    <tr style=\"text-align: right;\">\n",
       "      <th></th>\n",
       "      <th>label</th>\n",
       "      <th>text</th>\n",
       "    </tr>\n",
       "  </thead>\n",
       "  <tbody>\n",
       "    <tr>\n",
       "      <th>0</th>\n",
       "      <td>2</td>\n",
       "      <td>enfp and intj moments sportscenter not top ten...</td>\n",
       "    </tr>\n",
       "    <tr>\n",
       "      <th>1</th>\n",
       "      <td>2</td>\n",
       "      <td>What has been the most life-changing experienc...</td>\n",
       "    </tr>\n",
       "    <tr>\n",
       "      <th>2</th>\n",
       "      <td>2</td>\n",
       "      <td>On repeat for most of today.</td>\n",
       "    </tr>\n",
       "    <tr>\n",
       "      <th>3</th>\n",
       "      <td>2</td>\n",
       "      <td>May the PerC Experience immerse you.</td>\n",
       "    </tr>\n",
       "    <tr>\n",
       "      <th>4</th>\n",
       "      <td>2</td>\n",
       "      <td>The last thing my INFJ friend posted on his fa...</td>\n",
       "    </tr>\n",
       "  </tbody>\n",
       "</table>\n",
       "</div>"
      ],
      "text/plain": [
       "   label                                               text\n",
       "0      2  enfp and intj moments sportscenter not top ten...\n",
       "1      2  What has been the most life-changing experienc...\n",
       "2      2                       On repeat for most of today.\n",
       "3      2               May the PerC Experience immerse you.\n",
       "4      2  The last thing my INFJ friend posted on his fa..."
      ]
     },
     "execution_count": 84,
     "metadata": {},
     "output_type": "execute_result"
    }
   ],
   "source": [
    "df_new['type'] = df_new['type'].map(type2num)\n",
    "df_new.columns = ['label', 'text']\n",
    "df_new.head()"
   ]
  },
  {
   "cell_type": "code",
   "execution_count": 85,
   "metadata": {},
   "outputs": [],
   "source": [
    "shuffle = np.random.permutation(len(df_new))\n",
    "df_new = df_new.iloc[shuffle]\n",
    "df_test = df_new.iloc[:int(0.2*len(df_new))]\n",
    "df_train = df_new.iloc[int(0.2*len(df_new)):]"
   ]
  },
  {
   "cell_type": "code",
   "execution_count": 86,
   "metadata": {},
   "outputs": [
    {
     "data": {
      "text/plain": [
       "(327828, 2)"
      ]
     },
     "execution_count": 86,
     "metadata": {},
     "output_type": "execute_result"
    }
   ],
   "source": [
    "df_train.shape"
   ]
  },
  {
   "cell_type": "code",
   "execution_count": 87,
   "metadata": {},
   "outputs": [],
   "source": [
    "df_test.to_csv('/workspaces/MBTI-Personality-Test/Data/mbti_test.csv', index=False)"
   ]
  },
  {
   "cell_type": "code",
   "execution_count": 88,
   "metadata": {},
   "outputs": [],
   "source": [
    "df_new.to_csv('/workspaces/MBTI-Personality-Test/Data/mbti_cleaned.csv', index=False)"
   ]
  },
  {
   "cell_type": "code",
   "execution_count": 89,
   "metadata": {},
   "outputs": [],
   "source": [
    "df_train.to_csv('/workspaces/MBTI-Personality-Test/Data/mbti_train.csv', index=False)"
   ]
  },
  {
   "cell_type": "code",
   "execution_count": 90,
   "metadata": {},
   "outputs": [],
   "source": [
    "with open('/workspaces/MBTI-Personality-Test/Data/label_to_num', 'w', encoding='utf-8') as f:\n",
    "    json.dump(type2num, f)\n",
    "\n",
    "with open('/workspaces/MBTI-Personality-Test/Data/num_to_label', 'w', encoding='utf-8') as f:\n",
    "    json.dump(num2type, f)"
   ]
  },
  {
   "cell_type": "code",
   "execution_count": 91,
   "metadata": {},
   "outputs": [
    {
     "data": {
      "text/plain": [
       "(array([ 7639.,  6279., 55830., 40742., 12630.,  9950., 69372., 48976.,\n",
       "         3391.,  1731., 25672., 26415.,  1507.,  1631.,  7311.,  8752.]),\n",
       " array([ 0.    ,  0.9375,  1.875 ,  2.8125,  3.75  ,  4.6875,  5.625 ,\n",
       "         6.5625,  7.5   ,  8.4375,  9.375 , 10.3125, 11.25  , 12.1875,\n",
       "        13.125 , 14.0625, 15.    ]),\n",
       " <BarContainer object of 16 artists>)"
      ]
     },
     "execution_count": 91,
     "metadata": {},
     "output_type": "execute_result"
    },
    {
     "data": {
      "image/png": "[encoded data removed]",
      "text/plain": [
       "<Figure size 640x480 with 1 Axes>"
      ]
     },
     "metadata": {},
     "output_type": "display_data"
    }
   ],
   "source": [
    "plt.hist(df_train['label'], bins=16)"
   ]
  },
  {
   "cell_type": "code",
   "execution_count": 77,
   "metadata": {},
   "outputs": [
    {
     "name": "stdout",
     "output_type": "stream",
     "text": [
      "(410824, 2)\n",
      "(328660, 2)\n"
     ]
    }
   ],
   "source": [
    "print(df_new.shape)\n",
    "print(df_train.shape)"
   ]
  },
  {
   "cell_type": "code",
   "execution_count": 78,
   "metadata": {},
   "outputs": [
    {
     "name": "stdout",
     "output_type": "stream",
     "text": [
      "        text\n",
      "label       \n",
      "0       7747\n",
      "1       6357\n",
      "2      55835\n",
      "3      40929\n",
      "4      12832\n",
      "5       9941\n",
      "6      69577\n",
      "7      49145\n",
      "8       3387\n",
      "9       1716\n",
      "10     25502\n",
      "11     26525\n",
      "12      1497\n",
      "13      1577\n",
      "14      7278\n",
      "15      8815\n",
      "20541\n"
     ]
    }
   ],
   "source": [
    "avg = int(df_train.shape[0] / 16)\n",
    "cnt = df_train.groupby('label').count()\n",
    "print(cnt)\n",
    "print(avg)"
   ]
  },
  {
   "cell_type": "code",
   "execution_count": 50,
   "metadata": {},
   "outputs": [
    {
     "data": {
      "text/html": [
       "<div>\n",
       "<style scoped>\n",
       "    .dataframe tbody tr th:only-of-type {\n",
       "        vertical-align: middle;\n",
       "    }\n",
       "\n",
       "    .dataframe tbody tr th {\n",
       "        vertical-align: top;\n",
       "    }\n",
       "\n",
       "    .dataframe thead th {\n",
       "        text-align: right;\n",
       "    }\n",
       "</style>\n",
       "<table border=\"1\" class=\"dataframe\">\n",
       "  <thead>\n",
       "    <tr style=\"text-align: right;\">\n",
       "      <th></th>\n",
       "      <th>text</th>\n",
       "    </tr>\n",
       "    <tr>\n",
       "      <th>label</th>\n",
       "      <th></th>\n",
       "    </tr>\n",
       "  </thead>\n",
       "  <tbody>\n",
       "    <tr>\n",
       "      <th>0</th>\n",
       "      <td>12877</td>\n",
       "    </tr>\n",
       "    <tr>\n",
       "      <th>1</th>\n",
       "      <td>14297</td>\n",
       "    </tr>\n",
       "    <tr>\n",
       "      <th>2</th>\n",
       "      <td>0</td>\n",
       "    </tr>\n",
       "    <tr>\n",
       "      <th>3</th>\n",
       "      <td>0</td>\n",
       "    </tr>\n",
       "    <tr>\n",
       "      <th>4</th>\n",
       "      <td>7892</td>\n",
       "    </tr>\n",
       "    <tr>\n",
       "      <th>5</th>\n",
       "      <td>10619</td>\n",
       "    </tr>\n",
       "    <tr>\n",
       "      <th>6</th>\n",
       "      <td>0</td>\n",
       "    </tr>\n",
       "    <tr>\n",
       "      <th>7</th>\n",
       "      <td>0</td>\n",
       "    </tr>\n",
       "    <tr>\n",
       "      <th>8</th>\n",
       "      <td>17177</td>\n",
       "    </tr>\n",
       "    <tr>\n",
       "      <th>9</th>\n",
       "      <td>18876</td>\n",
       "    </tr>\n",
       "    <tr>\n",
       "      <th>10</th>\n",
       "      <td>0</td>\n",
       "    </tr>\n",
       "    <tr>\n",
       "      <th>11</th>\n",
       "      <td>0</td>\n",
       "    </tr>\n",
       "    <tr>\n",
       "      <th>12</th>\n",
       "      <td>19073</td>\n",
       "    </tr>\n",
       "    <tr>\n",
       "      <th>13</th>\n",
       "      <td>18980</td>\n",
       "    </tr>\n",
       "    <tr>\n",
       "      <th>14</th>\n",
       "      <td>13321</td>\n",
       "    </tr>\n",
       "    <tr>\n",
       "      <th>15</th>\n",
       "      <td>11741</td>\n",
       "    </tr>\n",
       "  </tbody>\n",
       "</table>\n",
       "</div>"
      ],
      "text/plain": [
       "        text\n",
       "label       \n",
       "0      12877\n",
       "1      14297\n",
       "2          0\n",
       "3          0\n",
       "4       7892\n",
       "5      10619\n",
       "6          0\n",
       "7          0\n",
       "8      17177\n",
       "9      18876\n",
       "10         0\n",
       "11         0\n",
       "12     19073\n",
       "13     18980\n",
       "14     13321\n",
       "15     11741"
      ]
     },
     "execution_count": 50,
     "metadata": {},
     "output_type": "execute_result"
    }
   ],
   "source": [
    "aug = cnt.apply(lambda x: (avg - x)).clip(0)\n",
    "aug"
   ]
  },
  {
   "cell_type": "code",
   "execution_count": 26,
   "metadata": {},
   "outputs": [
    {
     "data": {
      "text/html": [
       "<div>\n",
       "<style scoped>\n",
       "    .dataframe tbody tr th:only-of-type {\n",
       "        vertical-align: middle;\n",
       "    }\n",
       "\n",
       "    .dataframe tbody tr th {\n",
       "        vertical-align: top;\n",
       "    }\n",
       "\n",
       "    .dataframe thead th {\n",
       "        text-align: right;\n",
       "    }\n",
       "</style>\n",
       "<table border=\"1\" class=\"dataframe\">\n",
       "  <thead>\n",
       "    <tr style=\"text-align: right;\">\n",
       "      <th></th>\n",
       "      <th>text</th>\n",
       "    </tr>\n",
       "    <tr>\n",
       "      <th>label</th>\n",
       "      <th></th>\n",
       "    </tr>\n",
       "  </thead>\n",
       "  <tbody>\n",
       "    <tr>\n",
       "      <th>0</th>\n",
       "      <td>12877</td>\n",
       "    </tr>\n",
       "    <tr>\n",
       "      <th>1</th>\n",
       "      <td>14297</td>\n",
       "    </tr>\n",
       "    <tr>\n",
       "      <th>2</th>\n",
       "      <td>0</td>\n",
       "    </tr>\n",
       "    <tr>\n",
       "      <th>3</th>\n",
       "      <td>0</td>\n",
       "    </tr>\n",
       "    <tr>\n",
       "      <th>4</th>\n",
       "      <td>7892</td>\n",
       "    </tr>\n",
       "    <tr>\n",
       "      <th>5</th>\n",
       "      <td>10619</td>\n",
       "    </tr>\n",
       "    <tr>\n",
       "      <th>6</th>\n",
       "      <td>0</td>\n",
       "    </tr>\n",
       "    <tr>\n",
       "      <th>7</th>\n",
       "      <td>0</td>\n",
       "    </tr>\n",
       "    <tr>\n",
       "      <th>8</th>\n",
       "      <td>17177</td>\n",
       "    </tr>\n",
       "    <tr>\n",
       "      <th>9</th>\n",
       "      <td>18876</td>\n",
       "    </tr>\n",
       "    <tr>\n",
       "      <th>10</th>\n",
       "      <td>0</td>\n",
       "    </tr>\n",
       "    <tr>\n",
       "      <th>11</th>\n",
       "      <td>0</td>\n",
       "    </tr>\n",
       "    <tr>\n",
       "      <th>12</th>\n",
       "      <td>19073</td>\n",
       "    </tr>\n",
       "    <tr>\n",
       "      <th>13</th>\n",
       "      <td>18980</td>\n",
       "    </tr>\n",
       "    <tr>\n",
       "      <th>14</th>\n",
       "      <td>13321</td>\n",
       "    </tr>\n",
       "    <tr>\n",
       "      <th>15</th>\n",
       "      <td>11741</td>\n",
       "    </tr>\n",
       "  </tbody>\n",
       "</table>\n",
       "</div>"
      ],
      "text/plain": [
       "        text\n",
       "label       \n",
       "0      12877\n",
       "1      14297\n",
       "2          0\n",
       "3          0\n",
       "4       7892\n",
       "5      10619\n",
       "6          0\n",
       "7          0\n",
       "8      17177\n",
       "9      18876\n",
       "10         0\n",
       "11         0\n",
       "12     19073\n",
       "13     18980\n",
       "14     13321\n",
       "15     11741"
      ]
     },
     "execution_count": 26,
     "metadata": {},
     "output_type": "execute_result"
    }
   ],
   "source": [
    "aug = cnt.apply(lambda x: (avg - x)).clip(0)\n",
    "aug"
   ]
  },
  {
   "cell_type": "code",
   "execution_count": null,
   "metadata": {},
   "outputs": [],
   "source": []
  },
  {
   "cell_type": "code",
   "execution_count": null,
   "metadata": {},
   "outputs": [],
   "source": []
  }
 ],
 "metadata": {
  "kernelspec": {
   "display_name": ".venv",
   "language": "python",
   "name": "python3"
  },
  "language_info": {
   "codemirror_mode": {
    "name": "ipython",
    "version": 3
   },
   "file_extension": ".py",
   "mimetype": "text/x-python",
   "name": "python",
   "nbconvert_exporter": "python",
   "pygments_lexer": "ipython3",
   "version": "3.10.8"
  },
  "orig_nbformat": 4,
  "vscode": {
   "interpreter": {
    "hash": "ac6dcd399ab8cd2ecc0f6e8f154efd75b4aa37c8093b73598011b1aae01f02fe"
   }
  }
 },
 "nbformat": 4,
 "nbformat_minor": 2
}
